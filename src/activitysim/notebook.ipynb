{
  "nbformat": 4,
  "nbformat_minor": 0,
  "metadata": {
    "colab": {
      "name": "Untitled1.ipynb",
      "version": "0.3.2",
      "provenance": [],
      "include_colab_link": true
    },
    "kernelspec": {
      "name": "python3",
      "display_name": "Python 3"
    }
  },
  "cells": [
    {
      "cell_type": "markdown",
      "metadata": {
        "id": "view-in-github",
        "colab_type": "text"
      },
      "source": [
        "<a href=\"https://colab.research.google.com/github/xiufengliu/ActivitySim/blob/master/src/activitysim/notebook.ipynb\" target=\"_parent\"><img src=\"https://colab.research.google.com/assets/colab-badge.svg\" alt=\"Open In Colab\"/></a>"
      ]
    },
    {
      "cell_type": "code",
      "metadata": {
        "id": "g3aar_vd99ZF",
        "colab_type": "code",
        "colab": {}
      },
      "source": [
        "import numpy as np"
      ],
      "execution_count": 0,
      "outputs": []
    },
    {
      "cell_type": "code",
      "metadata": {
        "id": "EntWCOdu9VRT",
        "colab_type": "code",
        "colab": {}
      },
      "source": [
        "def estimated_autocorrelation(x):\n",
        "    \"\"\"\n",
        "    http://stackoverflow.com/q/14297012/190597\n",
        "    http://en.wikipedia.org/wiki/Autocorrelation#Estimation\n",
        "    \"\"\"\n",
        "    n = len(x)\n",
        "    variance = x.var()\n",
        "    x = x-x.mean()\n",
        "    r = np.correlate(x, x, mode = 'full')[-n:]\n",
        "    assert np.allclose(r, np.array([(x[:n-k]*x[-(n-k):]).sum() for k in range(n)]))\n",
        "    result = r/(variance*(np.arange(n, 0, -1)))\n",
        "    return result"
      ],
      "execution_count": 0,
      "outputs": []
    }
  ]
}